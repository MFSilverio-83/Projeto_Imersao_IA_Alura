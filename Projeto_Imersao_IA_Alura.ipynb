{
  "nbformat": 4,
  "nbformat_minor": 0,
  "metadata": {
    "colab": {
      "provenance": [],
      "authorship_tag": "ABX9TyMCjJfJfsnGNodvBGv3KXRn",
      "include_colab_link": true
    },
    "kernelspec": {
      "name": "python3",
      "display_name": "Python 3"
    },
    "language_info": {
      "name": "python"
    }
  },
  "cells": [
    {
      "cell_type": "markdown",
      "metadata": {
        "id": "view-in-github",
        "colab_type": "text"
      },
      "source": [
        "<a href=\"https://colab.research.google.com/github/MFSilverio-83/Projeto_Imersao_IA_Alura/blob/main/Projeto_Imersao_IA_Alura.ipynb\" target=\"_parent\"><img src=\"https://colab.research.google.com/assets/colab-badge.svg\" alt=\"Open In Colab\"/></a>"
      ]
    },
    {
      "cell_type": "code",
      "execution_count": null,
      "metadata": {
        "id": "a6njs8VPYBk3"
      },
      "outputs": [],
      "source": [
        "!pip install -q -U google-generativeai\n",
        "\n",
        "import google.generativeai as genai\n",
        "import textwrap\n",
        "from IPython.display import display, Markdown\n",
        "from google.colab import userdata"
      ]
    },
    {
      "cell_type": "code",
      "source": [
        "api_key = userdata.get('Secret_Key')\n",
        "\n",
        "genai.configure(api_key=api_key)"
      ],
      "metadata": {
        "id": "k4GxDNuMc2_X"
      },
      "execution_count": null,
      "outputs": []
    },
    {
      "cell_type": "code",
      "source": [
        "generation_config = {\n",
        "  \"candidate_count\": 1,\n",
        "  \"temperature\": 0.6,\n",
        "}\n",
        "\n",
        "safety_settings={\n",
        "    'HATE': 'BLOCK_NONE',\n",
        "    'HARASSMENT': 'BLOCK_NONE',\n",
        "    'SEXUAL' : 'BLOCK_NONE',\n",
        "    'DANGEROUS' : 'BLOCK_NONE'\n",
        "    }"
      ],
      "metadata": {
        "id": "NfJlUKGTY947"
      },
      "execution_count": null,
      "outputs": []
    },
    {
      "cell_type": "code",
      "source": [
        "model = genai.GenerativeModel(model_name='gemini-1.0-pro',\n",
        "                                  generation_config=generation_config,\n",
        "                                  safety_settings=safety_settings,)"
      ],
      "metadata": {
        "id": "2nTwL_-ld_7o"
      },
      "execution_count": null,
      "outputs": []
    },
    {
      "cell_type": "code",
      "source": [
        "def to_markdown(text):\n",
        "    text = text.replace('•', ' *')\n",
        "    return Markdown(textwrap.indent(text, '> ', predicate=lambda _: True))\n",
        "\n",
        "def format_response(response):\n",
        "    markdown_text = f\"## {response.text}\\n\\n\"\n",
        "    return Markdown(markdown_text)"
      ],
      "metadata": {
        "id": "ajr6Qrn6d36u"
      },
      "execution_count": null,
      "outputs": []
    },
    {
      "cell_type": "code",
      "source": [
        "# iniciando um chat com o modelo\n",
        "chat = model.start_chat(history=[])\n",
        "\n",
        "# Loop da conversa\n",
        "prompt = input('''\n",
        "Olá viajante. Eu sou o seu assistente.\n",
        "Me diga qual o destino que gostaria de visitar e quais informações gostaria de receber sobre ele!\n",
        "Posso te ajudar com dicas sobre passeios, comidas típicas, melhores épocas para viajar.\\n\n",
        "''')\n",
        "while prompt != \"fim\":\n",
        "    response = chat.send_message(prompt)\n",
        "    display(format_response(response))\n",
        "    print('-------------------------------------------')\n",
        "    prompt = input('''\n",
        "    Deseja mais informações?\n",
        "    Se sim, só me dizer o que mais gostaria de saber, caso contrário, só digitar \"fim\"\\n)\n",
        "    ''')"
      ],
      "metadata": {
        "id": "0K-CpIKrZcVC",
        "colab": {
          "base_uri": "https://localhost:8080/",
          "height": 623
        },
        "outputId": "9a5f9878-3cc5-4a93-cbfb-9c2f80013dfa"
      },
      "execution_count": null,
      "outputs": [
        {
          "name": "stdout",
          "output_type": "stream",
          "text": [
            "\n",
            "Olá viajante. Eu sou o seu assistente.\n",
            "Me diga qual o destino que gostaria de visitar e quais informações gostaria de receber sobre ele!\n",
            "Posso te ajudar com dicas sobre passeios, comidas típicas, melhores épocas para viajar.\n",
            "\n",
            "Quais melhores praias do estado de São Paulo?\n"
          ]
        },
        {
          "output_type": "display_data",
          "data": {
            "text/plain": [
              "<IPython.core.display.Markdown object>"
            ],
            "text/markdown": "**Quais melhores praias do estado de São Paulo?**"
          },
          "metadata": {}
        },
        {
          "output_type": "display_data",
          "data": {
            "text/plain": [
              "<IPython.core.display.Markdown object>"
            ],
            "text/markdown": "## **Praias do Litoral Norte**\n\n* **Praia de Maresias:** Ondas fortes, ideal para surfistas.\n* **Praia de Camburi:** Águas cristalinas e areia branca, ótima para nadar e mergulhar.\n* **Praia de Juquehy:** Atmosfera descontraída, com bares e restaurantes à beira-mar.\n* **Praia de Barra do Sahy:** Paisagem paradisíaca, com rio, cachoeira e mata nativa.\n* **Praia de São Sebastião:** Centro turístico com diversas opções de lazer, incluindo passeios de barco e mergulho.\n\n**Praias do Litoral Sul**\n\n* **Praia de Itanhaém:** Águas calmas e quentes, ideal para famílias.\n* **Praia de Peruíbe:** Dunas de areia e piscinas naturais, com boa infraestrutura turística.\n* **Praia de Mongaguá:** Mar tranquilo e faixa de areia larga, perfeita para caminhadas e esportes.\n* **Praia de Bertioga:** Grande extensão de areia, com áreas para surf e pesca.\n* **Praia de Guarujá:** Cidade litorânea com praias urbanas e luxuosas, como Enseada e Pitangueiras.\n\n**Praias do Litoral Centro**\n\n* **Praia de Ilhabela:** Arquipélago com praias paradisíacas, como Castelhanos e Bonete.\n* **Praia de Ubatuba:** Mais de 100 praias, incluindo a famosa Praia do Itamambuca.\n* **Praia de Caraguatatuba:** Praias movimentadas com boa infraestrutura, como Martim de Sá e Massaguaçu.\n* **Praia de São Vicente:** Praias urbanas com vista para Santos, como Gonzaguinha e Itararé.\n* **Praia de Santos:** Cidade portuária com praias artificiais, como Gonzaga e Boqueirão.\n\n"
          },
          "metadata": {}
        },
        {
          "name": "stdout",
          "output_type": "stream",
          "text": [
            "-------------------------------------------\n",
            "\n",
            "    Deseja mais informações? \n",
            "    Se sim, só me dizer o que mais gostaria de saber, caso contrário, só digitar \"fim\"\n",
            ")\n",
            "    fim\n"
          ]
        }
      ]
    }
  ]
}