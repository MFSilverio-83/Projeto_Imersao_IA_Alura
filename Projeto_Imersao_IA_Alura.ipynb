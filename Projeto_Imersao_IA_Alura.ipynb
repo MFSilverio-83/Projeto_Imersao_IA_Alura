{
  "nbformat": 4,
  "nbformat_minor": 0,
  "metadata": {
    "colab": {
      "provenance": [],
      "authorship_tag": "ABX9TyOMEFuY18D2nMDgN2f1GheI",
      "include_colab_link": true
    },
    "kernelspec": {
      "name": "python3",
      "display_name": "Python 3"
    },
    "language_info": {
      "name": "python"
    }
  },
  "cells": [
    {
      "cell_type": "markdown",
      "metadata": {
        "id": "view-in-github",
        "colab_type": "text"
      },
      "source": [
        "<a href=\"https://colab.research.google.com/github/MFSilverio-83/Projeto_Imersao_IA_Alura/blob/main/Projeto_Imersao_IA_Alura.ipynb\" target=\"_parent\"><img src=\"https://colab.research.google.com/assets/colab-badge.svg\" alt=\"Open In Colab\"/></a>"
      ]
    },
    {
      "cell_type": "code",
      "execution_count": null,
      "metadata": {
        "id": "a6njs8VPYBk3"
      },
      "outputs": [],
      "source": [
        "# instalação do google generative e importação de bibliotecas\n",
        "!pip install -q -U google-generativeai\n",
        "\n",
        "import google.generativeai as genai\n",
        "import textwrap\n",
        "from IPython.display import display, Markdown\n",
        "from google.colab import userdata"
      ]
    },
    {
      "cell_type": "code",
      "source": [
        "# ocultando api_key\n",
        "api_key = userdata.get('Secret_Key')\n",
        "\n",
        "genai.configure(api_key=api_key)"
      ],
      "metadata": {
        "id": "k4GxDNuMc2_X"
      },
      "execution_count": 14,
      "outputs": []
    },
    {
      "cell_type": "code",
      "source": [
        "# criação das configurações padrões do modelo\n",
        "generation_config = {\n",
        "  \"candidate_count\": 1,\n",
        "  \"temperature\": 0.6,\n",
        "}\n",
        "\n",
        "safety_settings={\n",
        "    'HATE': 'BLOCK_NONE',\n",
        "    'HARASSMENT': 'BLOCK_NONE',\n",
        "    'SEXUAL' : 'BLOCK_NONE',\n",
        "    'DANGEROUS' : 'BLOCK_NONE'\n",
        "    }"
      ],
      "metadata": {
        "id": "NfJlUKGTY947"
      },
      "execution_count": null,
      "outputs": []
    },
    {
      "cell_type": "code",
      "source": [
        "# geração e inicialização do modelo\n",
        "model = genai.GenerativeModel(model_name='gemini-1.0-pro',\n",
        "                                  generation_config=generation_config,\n",
        "                                  safety_settings=safety_settings,)"
      ],
      "metadata": {
        "id": "2nTwL_-ld_7o"
      },
      "execution_count": null,
      "outputs": []
    },
    {
      "cell_type": "code",
      "source": [
        "# definição das funções de formatação\n",
        "def to_markdown(text):\n",
        "    text = text.replace('•', ' *')\n",
        "    return Markdown(textwrap.indent(text, '> ', predicate=lambda _: True))\n",
        "\n",
        "def format_response(response):\n",
        "    markdown_text = f\"## {response.text}\\n\\n\"\n",
        "    return Markdown(markdown_text)"
      ],
      "metadata": {
        "id": "ajr6Qrn6d36u"
      },
      "execution_count": null,
      "outputs": []
    },
    {
      "cell_type": "code",
      "source": [
        "# iniciando um chat com o modelo\n",
        "chat = model.start_chat(history=[])\n",
        "\n",
        "# Loop da conversa\n",
        "prompt = input('''\n",
        "Olá viajante. Eu sou o seu assistente.\n",
        "Me diga qual o destino que gostaria de visitar e quais informações gostaria de receber sobre ele!\n",
        "Posso te ajudar com dicas sobre passeios, comidas típicas, melhores épocas para viajar.\\n\n",
        "''')\n",
        "while prompt != \"fim\":\n",
        "    response = chat.send_message(prompt)\n",
        "    display(format_response(response))\n",
        "    print('-------------------------------------------')\n",
        "    prompt = input('''\n",
        "    Deseja mais informações?\n",
        "    Se sim, só me dizer o que mais gostaria de saber, caso contrário, só digitar \"fim\"\\n)\n",
        "    ''')"
      ],
      "metadata": {
        "id": "0K-CpIKrZcVC"
      },
      "execution_count": null,
      "outputs": []
    }
  ]
}